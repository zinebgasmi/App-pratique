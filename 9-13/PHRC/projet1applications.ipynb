{
  "nbformat": 4,
  "nbformat_minor": 0,
  "metadata": {
    "colab": {
      "provenance": [],
      "authorship_tag": "ABX9TyNpe+FSugj86K+19bjxCBmH",
      "include_colab_link": true
    },
    "kernelspec": {
      "name": "python3",
      "display_name": "Python 3"
    },
    "language_info": {
      "name": "python"
    }
  },
  "cells": [
    {
      "cell_type": "markdown",
      "metadata": {
        "id": "view-in-github",
        "colab_type": "text"
      },
      "source": [
        "<a href=\"https://colab.research.google.com/github/zinebgasmi/App-pratique/blob/master/9-13/PHRC/projet1applications.ipynb\" target=\"_parent\"><img src=\"https://colab.research.google.com/assets/colab-badge.svg\" alt=\"Open In Colab\"/></a>"
      ]
    },
    {
      "cell_type": "code",
      "source": [
        "import os\n",
        "from bs4 import BeautifulSoup\n",
        "# Python 3.x\n",
        "from urllib.request import urlopen, urlretrieve\n",
        "import re\n",
        "\n",
        "URL = 'https://solidarites-sante.gouv.fr/systeme-de-sante-et-medico-social/innovation-et-recherche/l-innovation-et-la-recherche-clinique/appels-a-projets/article/les-projets-retenus'\n",
        "URL2 = 'https://solidarites-sante.gouv.fr'\n",
        "OUTPUT_DIR = './data'  # path to output folder, '.' or '' uses current folder\n",
        "\n",
        "u = urlopen(URL)\n",
        "try:\n",
        "    html = u.read().decode('utf-8')\n",
        "finally:\n",
        "    u.close()\n",
        "\n",
        "soup = BeautifulSoup(html, \"lxml\")\n",
        "\n",
        "\n",
        "\n",
        "\n",
        "for link in soup.findAll('a', attrs={'href': re.compile(r'.xls|.xlsx$')}):\n",
        "    href = f'{URL2}/{link.get(\"href\")}'\n",
        "    print(href)\n",
        "\n",
        "\n",
        "# for link in soup.select('a[href^=\"http://\"]'):\n",
        "#     href = link.get('href')\n",
        "#     if not any(href.endswith(x) for x in ['.csv', '.xls', '.xlsx']):\n",
        "#         continue\n",
        "\n",
        "\n",
        "    filename = os.path.join(OUTPUT_DIR, href.rsplit('/', 1)[-1])\n",
        "\n",
        "    # We need a https:// URL for this site\n",
        "    href = href.replace('http://', 'https://')\n",
        "\n",
        "    print(\"Downloading %s to %s...\" % (href, filename) )\n",
        "    urlretrieve(href, filename)\n",
        "    print(\"Done.\")\n",
        "\n",
        "print (href)"
      ],
      "metadata": {
        "colab": {
          "base_uri": "https://localhost:8080/",
          "height": 411
        },
        "id": "LYN6ybtzDBlC",
        "outputId": "35886f39-f34b-4245-bd60-15faf34ef618"
      },
      "execution_count": null,
      "outputs": [
        {
          "output_type": "stream",
          "name": "stdout",
          "text": [
            "https://solidarites-sante.gouv.fr/IMG/xlsx/prts_21_resultatsselection_v2-1_20211004_mel.xlsx\n",
            "Downloading https://solidarites-sante.gouv.fr/IMG/xlsx/prts_21_resultatsselection_v2-1_20211004_mel.xlsx to ./data/prts_21_resultatsselection_v2-1_20211004_mel.xlsx...\n"
          ]
        },
        {
          "output_type": "error",
          "ename": "FileNotFoundError",
          "evalue": "ignored",
          "traceback": [
            "\u001b[0;31m---------------------------------------------------------------------------\u001b[0m",
            "\u001b[0;31mFileNotFoundError\u001b[0m                         Traceback (most recent call last)",
            "\u001b[0;32m<ipython-input-4-ddf7e75bb1b5>\u001b[0m in \u001b[0;36m<module>\u001b[0;34m\u001b[0m\n\u001b[1;32m     37\u001b[0m \u001b[0;34m\u001b[0m\u001b[0m\n\u001b[1;32m     38\u001b[0m     \u001b[0mprint\u001b[0m\u001b[0;34m(\u001b[0m\u001b[0;34m\"Downloading %s to %s...\"\u001b[0m \u001b[0;34m%\u001b[0m \u001b[0;34m(\u001b[0m\u001b[0mhref\u001b[0m\u001b[0;34m,\u001b[0m \u001b[0mfilename\u001b[0m\u001b[0;34m)\u001b[0m \u001b[0;34m)\u001b[0m\u001b[0;34m\u001b[0m\u001b[0;34m\u001b[0m\u001b[0m\n\u001b[0;32m---> 39\u001b[0;31m     \u001b[0murlretrieve\u001b[0m\u001b[0;34m(\u001b[0m\u001b[0mhref\u001b[0m\u001b[0;34m,\u001b[0m \u001b[0mfilename\u001b[0m\u001b[0;34m)\u001b[0m\u001b[0;34m\u001b[0m\u001b[0;34m\u001b[0m\u001b[0m\n\u001b[0m\u001b[1;32m     40\u001b[0m     \u001b[0mprint\u001b[0m\u001b[0;34m(\u001b[0m\u001b[0;34m\"Done.\"\u001b[0m\u001b[0;34m)\u001b[0m\u001b[0;34m\u001b[0m\u001b[0;34m\u001b[0m\u001b[0m\n\u001b[1;32m     41\u001b[0m \u001b[0;34m\u001b[0m\u001b[0m\n",
            "\u001b[0;32m/usr/lib/python3.7/urllib/request.py\u001b[0m in \u001b[0;36murlretrieve\u001b[0;34m(url, filename, reporthook, data)\u001b[0m\n\u001b[1;32m    255\u001b[0m         \u001b[0;31m# Handle temporary file setup.\u001b[0m\u001b[0;34m\u001b[0m\u001b[0;34m\u001b[0m\u001b[0;34m\u001b[0m\u001b[0m\n\u001b[1;32m    256\u001b[0m         \u001b[0;32mif\u001b[0m \u001b[0mfilename\u001b[0m\u001b[0;34m:\u001b[0m\u001b[0;34m\u001b[0m\u001b[0;34m\u001b[0m\u001b[0m\n\u001b[0;32m--> 257\u001b[0;31m             \u001b[0mtfp\u001b[0m \u001b[0;34m=\u001b[0m \u001b[0mopen\u001b[0m\u001b[0;34m(\u001b[0m\u001b[0mfilename\u001b[0m\u001b[0;34m,\u001b[0m \u001b[0;34m'wb'\u001b[0m\u001b[0;34m)\u001b[0m\u001b[0;34m\u001b[0m\u001b[0;34m\u001b[0m\u001b[0m\n\u001b[0m\u001b[1;32m    258\u001b[0m         \u001b[0;32melse\u001b[0m\u001b[0;34m:\u001b[0m\u001b[0;34m\u001b[0m\u001b[0;34m\u001b[0m\u001b[0m\n\u001b[1;32m    259\u001b[0m             \u001b[0mtfp\u001b[0m \u001b[0;34m=\u001b[0m \u001b[0mtempfile\u001b[0m\u001b[0;34m.\u001b[0m\u001b[0mNamedTemporaryFile\u001b[0m\u001b[0;34m(\u001b[0m\u001b[0mdelete\u001b[0m\u001b[0;34m=\u001b[0m\u001b[0;32mFalse\u001b[0m\u001b[0;34m)\u001b[0m\u001b[0;34m\u001b[0m\u001b[0;34m\u001b[0m\u001b[0m\n",
            "\u001b[0;31mFileNotFoundError\u001b[0m: [Errno 2] No such file or directory: './data/prts_21_resultatsselection_v2-1_20211004_mel.xlsx'"
          ]
        }
      ]
    },
    {
      "cell_type": "code",
      "source": [
        "import pandas as pd\n",
        "import glob\n",
        "\n",
        "\n",
        "a=0"
      ],
      "metadata": {
        "id": "_ONqU1-4Dv0S"
      },
      "execution_count": 15,
      "outputs": []
    },
    {
      "cell_type": "code",
      "source": [
        "for f in glob.glob('*.xls'):\n",
        "  print(\"yy\")\n"
      ],
      "metadata": {
        "colab": {
          "base_uri": "https://localhost:8080/"
        },
        "id": "MIeYM9_MECgZ",
        "outputId": "14a2e804-39be-421a-85a1-aae52b25c005"
      },
      "execution_count": 12,
      "outputs": [
        {
          "output_type": "stream",
          "name": "stdout",
          "text": [
            "yy\n",
            "yy\n",
            "yy\n",
            "yy\n",
            "yy\n",
            "yy\n",
            "yy\n"
          ]
        }
      ]
    },
    {
      "cell_type": "code",
      "source": [
        "\n",
        "a=0\n",
        "for f in glob.glob('*.xlsx'):\n",
        "  a=a+1\n",
        "print(a)"
      ],
      "metadata": {
        "colab": {
          "base_uri": "https://localhost:8080/"
        },
        "id": "Y-NoE8rxNC86",
        "outputId": "187486df-8058-4787-a589-1b3b8cfbff55"
      },
      "execution_count": 18,
      "outputs": [
        {
          "output_type": "stream",
          "name": "stdout",
          "text": [
            "20\n"
          ]
        }
      ]
    },
    {
      "cell_type": "code",
      "source": [],
      "metadata": {
        "colab": {
          "base_uri": "https://localhost:8080/",
          "height": 131
        },
        "id": "O0Lk6i7aOiPQ",
        "outputId": "f1dee755-282d-47be-b2e4-40f1ab8aecb9"
      },
      "execution_count": null,
      "outputs": [
        {
          "output_type": "error",
          "ename": "SyntaxError",
          "evalue": "ignored",
          "traceback": [
            "\u001b[0;36m  File \u001b[0;32m\"<ipython-input-34-efbe7a098f81>\"\u001b[0;36m, line \u001b[0;32m1\u001b[0m\n\u001b[0;31m    for i in glob.glob(\"C:/Users/user1/Desktop/phrc/*.xlsx\"):\u001b[0m\n\u001b[0m                                                             ^\u001b[0m\n\u001b[0;31mSyntaxError\u001b[0m\u001b[0;31m:\u001b[0m unexpected EOF while parsing\n"
          ]
        }
      ]
    },
    {
      "cell_type": "code",
      "source": [
        "bdd=pd.read_excel()"
      ],
      "metadata": {
        "id": "W5lV57_XFLo5"
      },
      "execution_count": null,
      "outputs": []
    },
    {
      "cell_type": "code",
      "source": [
        "list.append(pd.read_excel(i,usecols=colonnes))"
      ],
      "metadata": {
        "id": "IUm0xytUGLNK"
      },
      "execution_count": null,
      "outputs": []
    },
    {
      "cell_type": "code",
      "source": [
        "df=pd.concat(list,axis=1)"
      ],
      "metadata": {
        "id": "F0OhDx-0G20u"
      },
      "execution_count": null,
      "outputs": []
    },
    {
      "cell_type": "code",
      "source": [
        "print(df.head(10))"
      ],
      "metadata": {
        "id": "VtKcD8noHKDn"
      },
      "execution_count": null,
      "outputs": []
    },
    {
      "cell_type": "code",
      "execution_count": null,
      "metadata": {
        "id": "72PQgZPvC9i5"
      },
      "outputs": [],
      "source": []
    }
  ]
}