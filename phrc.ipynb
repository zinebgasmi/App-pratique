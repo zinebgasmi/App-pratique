{
  "nbformat": 4,
  "nbformat_minor": 0,
  "metadata": {
    "colab": {
      "provenance": [],
      "collapsed_sections": [],
      "authorship_tag": "ABX9TyOXsO081uw7PwAuqp+syLZR",
      "include_colab_link": true
    },
    "kernelspec": {
      "name": "python3",
      "display_name": "Python 3"
    },
    "language_info": {
      "name": "python"
    }
  },
  "cells": [
    {
      "cell_type": "markdown",
      "metadata": {
        "id": "view-in-github",
        "colab_type": "text"
      },
      "source": [
        "<a href=\"https://colab.research.google.com/github/zinebgasmi/App-pratique/blob/master/phrc.ipynb\" target=\"_parent\"><img src=\"https://colab.research.google.com/assets/colab-badge.svg\" alt=\"Open In Colab\"/></a>"
      ]
    },
    {
      "cell_type": "code",
      "execution_count": 28,
      "metadata": {
        "colab": {
          "base_uri": "https://localhost:8080/"
        },
        "id": "-NeOCyqNdEeN",
        "outputId": "260b5267-0de4-42d3-fba6-c3fc7f836dba"
      },
      "outputs": [
        {
          "output_type": "stream",
          "name": "stdout",
          "text": [
            "Looking in indexes: https://pypi.org/simple, https://us-python.pkg.dev/colab-wheels/public/simple/\n",
            "Requirement already satisfied: xlrd==1.2.0 in /usr/local/lib/python3.7/dist-packages (1.2.0)\n"
          ]
        }
      ],
      "source": [
        "! pip install xlrd==1.2.0"
      ]
    },
    {
      "cell_type": "code",
      "source": [
        "# Importer les packages\n",
        "import pandas as pd\n",
        "import re"
      ],
      "metadata": {
        "id": "FEoadIQ4MT6-"
      },
      "execution_count": 80,
      "outputs": []
    },
    {
      "cell_type": "code",
      "source": [
        "#importation des bases de données"
      ],
      "metadata": {
        "id": "U9iwf4iUW7rf"
      },
      "execution_count": 31,
      "outputs": []
    },
    {
      "cell_type": "code",
      "source": [
        "phrcI_2012=pd.read_excel('RESULTAT-PHRCI-2012-3.xls')\n",
        "phrcK_2012=pd.read_excel('RESULTAT-PHRCK-2012-2.xls')\n",
        "phrcN_2012=pd.read_excel('RESULTAT-PHRCN-2012-v2.xls')\n",
        "phrcI_2013=pd.read_excel('Resultats_PHRC-I_2013-1.xlsx')\n",
        "phrcK_2013=pd.read_excel('Resultats_PHRC-K_2013.xlsx')\n",
        "phrcN_2013=pd.read_excel('Resultats_PHRC-N_2013.xlsx')\n",
        "phrcI_2014=pd.read_excel('Projets_retenus_PHRC-I_2014.xls')\n",
        "phrcK_2014=pd.read_excel('resultats_phrc-k_2014.2.xls')\n",
        "phrcN_2014=pd.read_excel('Resultats_PHRC-N_2014.xls')\n",
        "phrcI_2015=pd.read_excel('projets_retenus_phrc-i_2015.xlsx')\n",
        "phrcK_2015=pd.read_excel('projets_retenus_phrc-k_2015.xlsx')\n",
        "phrcN_2015=pd.read_excel('projets_retenus_phrc-n_2015.xls')\n",
        "phrcI_2016=pd.read_excel('resultats_phrc-i_2016_mel.xlsx')\n",
        "phrcK_2016=pd.read_excel('resultats_phrc-k_2016_mel.xlsx')\n",
        "phrcN_2016=pd.read_excel('resultats_phrc_2016_mel.xlsx')\n",
        "phrcI_2017=pd.read_excel('dgos_resultats_phrc_i_2017_240718.xlsx')\n",
        "phrcK_2017=pd.read_excel('resultats_phrc-k_2017_040118.xlsx')\n",
        "phrcN_2017=pd.read_excel('resultats_phrc-n_2017_040118.xlsx')\n",
        "phrcI_2018=pd.read_excel('resultats_phrci_2018_mel.xlsx')\n",
        "phrcK_2018=pd.read_excel('resultats_phrck_2018_mel.xlsx')\n",
        "phrcN_2018=pd.read_excel('resultats_phrc-n_2017_040118.xlsx')\n",
        "phrcI_2019=pd.read_excel('resultats_phrci_2019_mel_v0-1_20200929.xlsx')\n",
        "phrcK_2019=pd.read_excel('resultats_phrc-k_2019_mel_v0-2_20200205.xlsx')\n",
        "phrcN_2019=pd.read_excel('resultats_phrcn_2019_mel_v0-2_20200102.xlsx')\n",
        "phrc1_2020=pd.read_excel('phrck_20_resultatsselection_v0-0_20210624_mel.xlsx')\n",
        "phrc2_2020=pd.read_excel('phrcn_20_resultatsselection_v2-0_20211006_mel.xlsx')\n",
        "phrc_2021=pd.read_excel('phrcn_21_resultatsselection_v0-0_20220713_mel.xlsx')"
      ],
      "metadata": {
        "id": "8rDaVoMbf0zX"
      },
      "execution_count": 32,
      "outputs": []
    },
    {
      "cell_type": "code",
      "source": [
        "#attribuer des types et années"
      ],
      "metadata": {
        "id": "b4YtQMOBWb5G"
      },
      "execution_count": 33,
      "outputs": []
    },
    {
      "cell_type": "code",
      "source": [
        "phrcI_2012[\"Année\"] = \"2012\"\n",
        "phrcI_2012[\"Type\"] = \"I\"\n",
        "phrcK_2012[\"Année\"] = \"2012\"\n",
        "phrcK_2012[\"Type\"] = \"K\"\n",
        "phrcN_2012[\"Année\"] = \"2012\"\n",
        "phrcN_2012[\"Type\"] = \"N\"\n",
        "phrcI_2013[\"Année\"] = \"2013\"\n",
        "phrcI_2013[\"Type\"] = \"I\"\n",
        "phrcK_2013[\"Année\"] = \"2013\"\n",
        "phrcK_2013[\"Type\"] = \"K\"\n",
        "phrcN_2013[\"Année\"] = \"2013\"\n",
        "phrcN_2013[\"Type\"] = \"N\"\n",
        "phrcI_2014[\"Année\"] = \"2014\"\n",
        "phrcI_2014[\"Type\"] = \"I\"\n",
        "phrcK_2014[\"Année\"] = \"2014\"\n",
        "phrcK_2014[\"Type\"] = \"K\"\n",
        "phrcN_2014[\"Année\"] = \"2014\"\n",
        "phrcN_2014[\"Type\"] = \"N\"\n",
        "phrcI_2015[\"Année\"] = \"2015\"\n",
        "phrcI_2015[\"Type\"] = \"I\"\n",
        "phrcK_2015[\"Année\"] = \"2015\"\n",
        "phrcK_2015[\"Type\"] = \"K\"\n",
        "phrcN_2015[\"Année\"] = \"2015\"\n",
        "phrcN_2015[\"Type\"] = \"N\"\n",
        "phrcI_2016[\"Année\"] = \"2016\"\n",
        "phrcI_2016[\"Type\"] = \"I\"\n",
        "phrcK_2016[\"Année\"] = \"2016\"\n",
        "phrcK_2016[\"Type\"] = \"K\"\n",
        "phrcN_2016[\"Année\"] = \"2016\"\n",
        "phrcN_2016[\"Type\"] = \"N\"\n",
        "phrcI_2017[\"Année\"] = \"2017\"\n",
        "phrcI_2017[\"Type\"] = \"I\"\n",
        "phrcK_2017[\"Année\"] = \"2017\"\n",
        "phrcK_2017[\"Type\"] = \"K\"\n",
        "phrcN_2017[\"Année\"] = \"2017\"\n",
        "phrcN_2017[\"Type\"] = \"N\"\n",
        "phrcI_2018[\"Année\"] = \"2018\"\n",
        "phrcI_2018[\"Type\"] = \"I\"\n",
        "phrcK_2018[\"Année\"] = \"2018\"\n",
        "phrcK_2018[\"Type\"] = \"K\"\n",
        "phrcN_2018[\"Année\"] = \"2018\"\n",
        "phrcN_2018[\"Type\"] = \"N\"\n",
        "phrcI_2019[\"Année\"] = \"2012\"\n",
        "phrcI_2019[\"Type\"] = \"I\"\n",
        "phrcK_2019[\"Année\"] = \"2012\"\n",
        "phrcK_2019[\"Type\"] = \"K\"\n",
        "phrcN_2019[\"Année\"] = \"2012\"\n",
        "phrcN_2019[\"Type\"] = \"N\"\n",
        "phrc1_2020[\"Année\"] = \"2020\"\n",
        "phrc1_2020[\"Type\"] = \"np.nan\"\n",
        "phrc2_2020[\"Année\"] = \"2020\"\n",
        "phrc2_2020[\"Type\"] = \"np.nan\"\n",
        "phrc_2021[\"Année\"] = \"2021\"\n",
        "phrc_2021[\"Type\"] = \"np.nan\""
      ],
      "metadata": {
        "id": "MzVAYJ91gQHX"
      },
      "execution_count": 42,
      "outputs": []
    },
    {
      "cell_type": "code",
      "source": [
        "phrcI_2012.columns"
      ],
      "metadata": {
        "colab": {
          "base_uri": "https://localhost:8080/"
        },
        "id": "egfi8F3zglCJ",
        "outputId": "345ef3e2-ad7c-4f2a-aba9-0201288abe8b"
      },
      "execution_count": 43,
      "outputs": [
        {
          "output_type": "execute_result",
          "data": {
            "text/plain": [
              "Index(['FINESS\\njuridique',\n",
              "       'Nom de l'Etablissement de Santé\\ndu Porteur de Projet/Investigateur\\nCoordonnateur',\n",
              "       'Porteur de Projet/Investigateur\\nCoordonnateur\\nNOM',\n",
              "       'Porteur de Projet/Investigateur\\nCoordonnateur\\nPRENOM',\n",
              "       'Titre du projet', 'N° du projet', 'Acronyme',\n",
              "       'Montant maximal PREVISIONNEL \\n (accordé  sous conditions de suivi)',\n",
              "       'Année', 'Type'],\n",
              "      dtype='object')"
            ]
          },
          "metadata": {},
          "execution_count": 43
        }
      ]
    },
    {
      "cell_type": "code",
      "source": [
        "#suppression d'une colonne\n",
        "phrcI_2012=phrcI_2012.drop(['Inter région'], axis=1)"
      ],
      "metadata": {
        "id": "QDIIIgwjg0UJ",
        "colab": {
          "base_uri": "https://localhost:8080/",
          "height": 334
        },
        "outputId": "e27247c8-8639-43b7-e33f-36515e0e9e1e"
      },
      "execution_count": 44,
      "outputs": [
        {
          "output_type": "error",
          "ename": "KeyError",
          "evalue": "ignored",
          "traceback": [
            "\u001b[0;31m---------------------------------------------------------------------------\u001b[0m",
            "\u001b[0;31mKeyError\u001b[0m                                  Traceback (most recent call last)",
            "\u001b[0;32m<ipython-input-44-3258e397b805>\u001b[0m in \u001b[0;36m<module>\u001b[0;34m\u001b[0m\n\u001b[1;32m      1\u001b[0m \u001b[0;31m#suppression d'une colonne\u001b[0m\u001b[0;34m\u001b[0m\u001b[0;34m\u001b[0m\u001b[0;34m\u001b[0m\u001b[0m\n\u001b[0;32m----> 2\u001b[0;31m \u001b[0mphrcI_2012\u001b[0m\u001b[0;34m=\u001b[0m\u001b[0mphrcI_2012\u001b[0m\u001b[0;34m.\u001b[0m\u001b[0mdrop\u001b[0m\u001b[0;34m(\u001b[0m\u001b[0;34m[\u001b[0m\u001b[0;34m'Inter région'\u001b[0m\u001b[0;34m]\u001b[0m\u001b[0;34m,\u001b[0m \u001b[0maxis\u001b[0m\u001b[0;34m=\u001b[0m\u001b[0;36m1\u001b[0m\u001b[0;34m)\u001b[0m\u001b[0;34m\u001b[0m\u001b[0;34m\u001b[0m\u001b[0m\n\u001b[0m",
            "\u001b[0;32m/usr/local/lib/python3.7/dist-packages/pandas/util/_decorators.py\u001b[0m in \u001b[0;36mwrapper\u001b[0;34m(*args, **kwargs)\u001b[0m\n\u001b[1;32m    309\u001b[0m                     \u001b[0mstacklevel\u001b[0m\u001b[0;34m=\u001b[0m\u001b[0mstacklevel\u001b[0m\u001b[0;34m,\u001b[0m\u001b[0;34m\u001b[0m\u001b[0;34m\u001b[0m\u001b[0m\n\u001b[1;32m    310\u001b[0m                 )\n\u001b[0;32m--> 311\u001b[0;31m             \u001b[0;32mreturn\u001b[0m \u001b[0mfunc\u001b[0m\u001b[0;34m(\u001b[0m\u001b[0;34m*\u001b[0m\u001b[0margs\u001b[0m\u001b[0;34m,\u001b[0m \u001b[0;34m**\u001b[0m\u001b[0mkwargs\u001b[0m\u001b[0;34m)\u001b[0m\u001b[0;34m\u001b[0m\u001b[0;34m\u001b[0m\u001b[0m\n\u001b[0m\u001b[1;32m    312\u001b[0m \u001b[0;34m\u001b[0m\u001b[0m\n\u001b[1;32m    313\u001b[0m         \u001b[0;32mreturn\u001b[0m \u001b[0mwrapper\u001b[0m\u001b[0;34m\u001b[0m\u001b[0;34m\u001b[0m\u001b[0m\n",
            "\u001b[0;32m/usr/local/lib/python3.7/dist-packages/pandas/core/frame.py\u001b[0m in \u001b[0;36mdrop\u001b[0;34m(self, labels, axis, index, columns, level, inplace, errors)\u001b[0m\n\u001b[1;32m   4911\u001b[0m             \u001b[0mlevel\u001b[0m\u001b[0;34m=\u001b[0m\u001b[0mlevel\u001b[0m\u001b[0;34m,\u001b[0m\u001b[0;34m\u001b[0m\u001b[0;34m\u001b[0m\u001b[0m\n\u001b[1;32m   4912\u001b[0m             \u001b[0minplace\u001b[0m\u001b[0;34m=\u001b[0m\u001b[0minplace\u001b[0m\u001b[0;34m,\u001b[0m\u001b[0;34m\u001b[0m\u001b[0;34m\u001b[0m\u001b[0m\n\u001b[0;32m-> 4913\u001b[0;31m             \u001b[0merrors\u001b[0m\u001b[0;34m=\u001b[0m\u001b[0merrors\u001b[0m\u001b[0;34m,\u001b[0m\u001b[0;34m\u001b[0m\u001b[0;34m\u001b[0m\u001b[0m\n\u001b[0m\u001b[1;32m   4914\u001b[0m         )\n\u001b[1;32m   4915\u001b[0m \u001b[0;34m\u001b[0m\u001b[0m\n",
            "\u001b[0;32m/usr/local/lib/python3.7/dist-packages/pandas/core/generic.py\u001b[0m in \u001b[0;36mdrop\u001b[0;34m(self, labels, axis, index, columns, level, inplace, errors)\u001b[0m\n\u001b[1;32m   4148\u001b[0m         \u001b[0;32mfor\u001b[0m \u001b[0maxis\u001b[0m\u001b[0;34m,\u001b[0m \u001b[0mlabels\u001b[0m \u001b[0;32min\u001b[0m \u001b[0maxes\u001b[0m\u001b[0;34m.\u001b[0m\u001b[0mitems\u001b[0m\u001b[0;34m(\u001b[0m\u001b[0;34m)\u001b[0m\u001b[0;34m:\u001b[0m\u001b[0;34m\u001b[0m\u001b[0;34m\u001b[0m\u001b[0m\n\u001b[1;32m   4149\u001b[0m             \u001b[0;32mif\u001b[0m \u001b[0mlabels\u001b[0m \u001b[0;32mis\u001b[0m \u001b[0;32mnot\u001b[0m \u001b[0;32mNone\u001b[0m\u001b[0;34m:\u001b[0m\u001b[0;34m\u001b[0m\u001b[0;34m\u001b[0m\u001b[0m\n\u001b[0;32m-> 4150\u001b[0;31m                 \u001b[0mobj\u001b[0m \u001b[0;34m=\u001b[0m \u001b[0mobj\u001b[0m\u001b[0;34m.\u001b[0m\u001b[0m_drop_axis\u001b[0m\u001b[0;34m(\u001b[0m\u001b[0mlabels\u001b[0m\u001b[0;34m,\u001b[0m \u001b[0maxis\u001b[0m\u001b[0;34m,\u001b[0m \u001b[0mlevel\u001b[0m\u001b[0;34m=\u001b[0m\u001b[0mlevel\u001b[0m\u001b[0;34m,\u001b[0m \u001b[0merrors\u001b[0m\u001b[0;34m=\u001b[0m\u001b[0merrors\u001b[0m\u001b[0;34m)\u001b[0m\u001b[0;34m\u001b[0m\u001b[0;34m\u001b[0m\u001b[0m\n\u001b[0m\u001b[1;32m   4151\u001b[0m \u001b[0;34m\u001b[0m\u001b[0m\n\u001b[1;32m   4152\u001b[0m         \u001b[0;32mif\u001b[0m \u001b[0minplace\u001b[0m\u001b[0;34m:\u001b[0m\u001b[0;34m\u001b[0m\u001b[0;34m\u001b[0m\u001b[0m\n",
            "\u001b[0;32m/usr/local/lib/python3.7/dist-packages/pandas/core/generic.py\u001b[0m in \u001b[0;36m_drop_axis\u001b[0;34m(self, labels, axis, level, errors)\u001b[0m\n\u001b[1;32m   4183\u001b[0m                 \u001b[0mnew_axis\u001b[0m \u001b[0;34m=\u001b[0m \u001b[0maxis\u001b[0m\u001b[0;34m.\u001b[0m\u001b[0mdrop\u001b[0m\u001b[0;34m(\u001b[0m\u001b[0mlabels\u001b[0m\u001b[0;34m,\u001b[0m \u001b[0mlevel\u001b[0m\u001b[0;34m=\u001b[0m\u001b[0mlevel\u001b[0m\u001b[0;34m,\u001b[0m \u001b[0merrors\u001b[0m\u001b[0;34m=\u001b[0m\u001b[0merrors\u001b[0m\u001b[0;34m)\u001b[0m\u001b[0;34m\u001b[0m\u001b[0;34m\u001b[0m\u001b[0m\n\u001b[1;32m   4184\u001b[0m             \u001b[0;32melse\u001b[0m\u001b[0;34m:\u001b[0m\u001b[0;34m\u001b[0m\u001b[0;34m\u001b[0m\u001b[0m\n\u001b[0;32m-> 4185\u001b[0;31m                 \u001b[0mnew_axis\u001b[0m \u001b[0;34m=\u001b[0m \u001b[0maxis\u001b[0m\u001b[0;34m.\u001b[0m\u001b[0mdrop\u001b[0m\u001b[0;34m(\u001b[0m\u001b[0mlabels\u001b[0m\u001b[0;34m,\u001b[0m \u001b[0merrors\u001b[0m\u001b[0;34m=\u001b[0m\u001b[0merrors\u001b[0m\u001b[0;34m)\u001b[0m\u001b[0;34m\u001b[0m\u001b[0;34m\u001b[0m\u001b[0m\n\u001b[0m\u001b[1;32m   4186\u001b[0m             \u001b[0mresult\u001b[0m \u001b[0;34m=\u001b[0m \u001b[0mself\u001b[0m\u001b[0;34m.\u001b[0m\u001b[0mreindex\u001b[0m\u001b[0;34m(\u001b[0m\u001b[0;34m**\u001b[0m\u001b[0;34m{\u001b[0m\u001b[0maxis_name\u001b[0m\u001b[0;34m:\u001b[0m \u001b[0mnew_axis\u001b[0m\u001b[0;34m}\u001b[0m\u001b[0;34m)\u001b[0m\u001b[0;34m\u001b[0m\u001b[0;34m\u001b[0m\u001b[0m\n\u001b[1;32m   4187\u001b[0m \u001b[0;34m\u001b[0m\u001b[0m\n",
            "\u001b[0;32m/usr/local/lib/python3.7/dist-packages/pandas/core/indexes/base.py\u001b[0m in \u001b[0;36mdrop\u001b[0;34m(self, labels, errors)\u001b[0m\n\u001b[1;32m   6015\u001b[0m         \u001b[0;32mif\u001b[0m \u001b[0mmask\u001b[0m\u001b[0;34m.\u001b[0m\u001b[0many\u001b[0m\u001b[0;34m(\u001b[0m\u001b[0;34m)\u001b[0m\u001b[0;34m:\u001b[0m\u001b[0;34m\u001b[0m\u001b[0;34m\u001b[0m\u001b[0m\n\u001b[1;32m   6016\u001b[0m             \u001b[0;32mif\u001b[0m \u001b[0merrors\u001b[0m \u001b[0;34m!=\u001b[0m \u001b[0;34m\"ignore\"\u001b[0m\u001b[0;34m:\u001b[0m\u001b[0;34m\u001b[0m\u001b[0;34m\u001b[0m\u001b[0m\n\u001b[0;32m-> 6017\u001b[0;31m                 \u001b[0;32mraise\u001b[0m \u001b[0mKeyError\u001b[0m\u001b[0;34m(\u001b[0m\u001b[0;34mf\"{labels[mask]} not found in axis\"\u001b[0m\u001b[0;34m)\u001b[0m\u001b[0;34m\u001b[0m\u001b[0;34m\u001b[0m\u001b[0m\n\u001b[0m\u001b[1;32m   6018\u001b[0m             \u001b[0mindexer\u001b[0m \u001b[0;34m=\u001b[0m \u001b[0mindexer\u001b[0m\u001b[0;34m[\u001b[0m\u001b[0;34m~\u001b[0m\u001b[0mmask\u001b[0m\u001b[0;34m]\u001b[0m\u001b[0;34m\u001b[0m\u001b[0;34m\u001b[0m\u001b[0m\n\u001b[1;32m   6019\u001b[0m         \u001b[0;32mreturn\u001b[0m \u001b[0mself\u001b[0m\u001b[0;34m.\u001b[0m\u001b[0mdelete\u001b[0m\u001b[0;34m(\u001b[0m\u001b[0mindexer\u001b[0m\u001b[0;34m)\u001b[0m\u001b[0;34m\u001b[0m\u001b[0;34m\u001b[0m\u001b[0m\n",
            "\u001b[0;31mKeyError\u001b[0m: \"['Inter région'] not found in axis\""
          ]
        }
      ]
    },
    {
      "cell_type": "code",
      "source": [
        "phrcK_2012.columns"
      ],
      "metadata": {
        "colab": {
          "base_uri": "https://localhost:8080/"
        },
        "id": "XMP6rknNC10y",
        "outputId": "e5f1cf04-7c79-4511-c45d-4d30007d63a8"
      },
      "execution_count": 45,
      "outputs": [
        {
          "output_type": "execute_result",
          "data": {
            "text/plain": [
              "Index(['FINESS\\njuridique',\n",
              "       'Nom de l'Etablissement de Santé\\ndu Porteur de Projet/Investigateur\\nCoordonnateur',\n",
              "       'Porteur de Projet/Investigateur\\nCoordonnateur\\nNOM',\n",
              "       'Porteur de Projet/Investigateur\\nCoordonnateur\\nPRENOM',\n",
              "       'Titre du projet', 'N° du projet', 'Acronyme',\n",
              "       'Montant maximal PREVISIONNEL (accordé  sous conditions de suivi)',\n",
              "       'Année', 'Type'],\n",
              "      dtype='object')"
            ]
          },
          "metadata": {},
          "execution_count": 45
        }
      ]
    },
    {
      "cell_type": "code",
      "source": [
        "phrcN_2012.columns"
      ],
      "metadata": {
        "colab": {
          "base_uri": "https://localhost:8080/"
        },
        "id": "7B5ueYvxC9wP",
        "outputId": "999f7167-6a30-47de-c8de-2eb236398f04"
      },
      "execution_count": 46,
      "outputs": [
        {
          "output_type": "execute_result",
          "data": {
            "text/plain": [
              "Index(['FINESS\\njuridique',\n",
              "       'Nom de l'Etablissement de Santé\\ndu Porteur de Projet/Investigateur\\nCoordonnateur',\n",
              "       'Porteur de Projet/Investigateur\\nCoordonnateur\\nNOM',\n",
              "       'Porteur de Projet/Investigateur\\nCoordonnateur\\nPRENOM',\n",
              "       'Titre du projet', 'N° du projet', 'Acronyme',\n",
              "       'Montant maximal PREVISIONNEL (accordé  sous conditions de suivi)',\n",
              "       'Année', 'Type'],\n",
              "      dtype='object')"
            ]
          },
          "metadata": {},
          "execution_count": 46
        }
      ]
    },
    {
      "cell_type": "code",
      "source": [
        "#renommer les colonnes\n",
        "phrcI_2012.columns = [\"Finess\",\"Nom de l'établissement\",\"NomInvestigateur\",\"PrénomInvestigateur\",\"TitreProjet\",\"NuméroProjet\",\"Acronyme\",\"MontantAccordé\",\"Année\",\"Type\"]\n",
        "phrcN_2012.columns = [\"Finess\",\"Nom de l'établissement\",\"NomInvestigateur\",\"PrénomInvestigateur\",\"TitreProjet\",\"NuméroProjet\",\"Acronyme\",\"MontantAccordé\",\"Année\",\"Type\"]\n",
        "phrcK_2012.columns = [\"Finess\",\"Nom de l'établissement\",\"NomInvestigateur\",\"PrénomInvestigateur\",\"TitreProjet\",\"NuméroProjet\",\"Acronyme\",\"MontantAccordé\",\"Année\",\"Type\"]"
      ],
      "metadata": {
        "id": "-0R8s4qQN2sr"
      },
      "execution_count": 47,
      "outputs": []
    },
    {
      "cell_type": "code",
      "source": [
        "#concatenation I,N,K\n",
        "phrc2012 = pd.concat([phrcI_2012,phrcK_2012,phrcN_2012])"
      ],
      "metadata": {
        "id": "C_WexjTGOV-G"
      },
      "execution_count": 48,
      "outputs": []
    },
    {
      "cell_type": "code",
      "source": [
        "#concatener et renommer les colonnes\n",
        "phrc2013 = pd.concat([phrcI_2013,phrcK_2013,phrcN_2013])\n",
        "phrc2013.columns = [\"Finess\",\"Nom de l'établissement\",\"NomInvestigateur\",\"PrénomInvestigateur\",\"TitreProjet\",\"NuméroProjet\",\"Acronyme\",\"MontantAccordé\",\"Année\",\"Type\"]\n"
      ],
      "metadata": {
        "id": "qhxwitKbOgVZ"
      },
      "execution_count": 49,
      "outputs": []
    },
    {
      "cell_type": "code",
      "source": [
        "#supprimer une colonne\n",
        "phrcK_2014=phrcK_2014.drop(['Commentaires'], axis=1)"
      ],
      "metadata": {
        "id": "MUBk_VwaO0Io"
      },
      "execution_count": 50,
      "outputs": []
    },
    {
      "cell_type": "code",
      "source": [
        "#concatener et renommer les colonnes\n",
        "phrc2014 = pd.concat([phrcI_2014,phrcK_2014,phrcN_2014])\n",
        "phrc2014.columns = [\"Finess\",\"Nom de l'établissement\",\"NomInvestigateur\",\"PrénomInvestigateur\",\"TitreProjet\",\"NuméroProjet\",\"Acronyme\",\"MontantAccordé\",\"Année\",\"Type\"]\n"
      ],
      "metadata": {
        "id": "ZyJ4rti0OmkH"
      },
      "execution_count": 51,
      "outputs": []
    },
    {
      "cell_type": "code",
      "source": [
        "#renommer les colonnes\n",
        "phrcN_2015.columns = [\"Finess\",\"Nom de l'établissement\",\"NomInvestigateur\",\"PrénomInvestigateur\",\"TitreProjet\",\"NuméroProjet\",\"Acronyme\",\"MontantAccordé\",\"Année\",\"Type\"]\n",
        "phrcI_2015.columns = [\"Finess\",\"Nom de l'établissement\",\"NomInvestigateur\",\"PrénomInvestigateur\",\"TitreProjet\",\"NuméroProjet\",\"Acronyme\",\"MontantAccordé\",\"Année\",\"Type\"]\n",
        "phrcK_2015.columns = [\"Finess\",\"Nom de l'établissement\",\"NomInvestigateur\",\"PrénomInvestigateur\",\"TitreProjet\",\"NuméroProjet\",\"Acronyme\",\"MontantAccordé\",\"Année\",\"Type\"]"
      ],
      "metadata": {
        "id": "wf-c8s1tRVV_"
      },
      "execution_count": 52,
      "outputs": []
    },
    {
      "cell_type": "code",
      "source": [
        "#concatenation\n",
        "phrc2015 = pd.concat([phrcI_2015,phrcK_2015,phrcN_2015])\n"
      ],
      "metadata": {
        "id": "Bmo1UwhGPw7h"
      },
      "execution_count": 53,
      "outputs": []
    },
    {
      "cell_type": "code",
      "source": [
        "#renommer les colonnes\n",
        "phrcN_2016.columns = [\"Finess\",\"Nom de l'établissement\",\"NomInvestigateur\",\"PrénomInvestigateur\",\"TitreProjet\",\"NuméroProjet\",\"Acronyme\",\"MontantAccordé\",\"Année\",\"Type\"]\n",
        "phrcK_2016.columns = [\"Finess\",\"Nom de l'établissement\",\"NomInvestigateur\",\"PrénomInvestigateur\",\"TitreProjet\",\"NuméroProjet\",\"Acronyme\",\"MontantAccordé\",\"Année\",\"Type\"]\n",
        "phrcI_2016.columns = [\"Finess\",\"Nom de l'établissement\",\"NomInvestigateur\",\"PrénomInvestigateur\",\"TitreProjet\",\"NuméroProjet\",\"Acronyme\",\"MontantAccordé\",\"Année\",\"Type\"]"
      ],
      "metadata": {
        "id": "m8ER7xruSAhz"
      },
      "execution_count": 54,
      "outputs": []
    },
    {
      "cell_type": "code",
      "source": [
        "#concatenation\n",
        "phrc2016 = pd.concat([phrcI_2016,phrcK_2016,phrcN_2016])\n"
      ],
      "metadata": {
        "id": "D1jF1UAvRt2t"
      },
      "execution_count": 55,
      "outputs": []
    },
    {
      "cell_type": "code",
      "source": [
        "#renommer les colonnes\n",
        "phrcN_2017.columns = [\"Finess\",\"Nom de l'établissement\",\"NomInvestigateur\",\"PrénomInvestigateur\",\"TitreProjet\",\"NuméroProjet\",\"Acronyme\",\"MontantAccordé\",\"Année\",\"Type\"]\n",
        "phrcK_2017.columns = [\"Finess\",\"Nom de l'établissement\",\"NomInvestigateur\",\"PrénomInvestigateur\",\"TitreProjet\",\"NuméroProjet\",\"Acronyme\",\"MontantAccordé\",\"Année\",\"Type\"]\n",
        "phrcI_2017.columns = [\"Finess\",\"Nom de l'établissement\",\"NomInvestigateur\",\"PrénomInvestigateur\",\"TitreProjet\",\"NuméroProjet\",\"Acronyme\",\"MontantAccordé\",\"Année\",\"Type\"]"
      ],
      "metadata": {
        "id": "8-58Zg_FSs-6"
      },
      "execution_count": 56,
      "outputs": []
    },
    {
      "cell_type": "code",
      "source": [
        "#cocatenation\n",
        "phrc2017 = pd.concat([phrcI_2016,phrcK_2016,phrcN_2016])"
      ],
      "metadata": {
        "id": "WNsS42Q4S0Fq"
      },
      "execution_count": 57,
      "outputs": []
    },
    {
      "cell_type": "code",
      "source": [
        "#renommer les colonnes\n",
        "phrcN_2018.columns = [\"Finess\",\"Nom de l'établissement\",\"NomInvestigateur\",\"PrénomInvestigateur\",\"TitreProjet\",\"NuméroProjet\",\"Acronyme\",\"MontantAccordé\",\"Année\",\"Type\"]\n",
        "phrcK_2018.columns = [\"Finess\",\"Nom de l'établissement\",\"NomInvestigateur\",\"PrénomInvestigateur\",\"TitreProjet\",\"NuméroProjet\",\"Acronyme\",\"MontantAccordé\",\"Année\",\"Type\"]\n",
        "phrcI_2018.columns = [\"Finess\",\"Nom de l'établissement\",\"NomInvestigateur\",\"PrénomInvestigateur\",\"TitreProjet\",\"NuméroProjet\",\"Acronyme\",\"MontantAccordé\",\"Année\",\"Type\"]"
      ],
      "metadata": {
        "id": "7ONtaoU9S3E3"
      },
      "execution_count": 58,
      "outputs": []
    },
    {
      "cell_type": "code",
      "source": [
        "#concatenation\n",
        "phrc2018 = pd.concat([phrcI_2018,phrcK_2018,phrcN_2018])"
      ],
      "metadata": {
        "id": "GA6oxOjcS-sA"
      },
      "execution_count": 59,
      "outputs": []
    },
    {
      "cell_type": "code",
      "source": [
        "#renommer les colonnes\n",
        "phrcN_2019.columns = [\"Finess\",\"Nom de l'établissement\",\"NomInvestigateur\",\"PrénomInvestigateur\",\"TitreProjet\",\"NuméroProjet\",\"Acronyme\",\"MontantAccordé\",\"Année\",\"Type\"]\n",
        "phrcK_2019.columns = [\"Finess\",\"Nom de l'établissement\",\"NomInvestigateur\",\"PrénomInvestigateur\",\"TitreProjet\",\"NuméroProjet\",\"Acronyme\",\"MontantAccordé\",\"Année\",\"Type\"]\n",
        "phrcI_2019.columns = [\"Finess\",\"Nom de l'établissement\",\"NomInvestigateur\",\"PrénomInvestigateur\",\"TitreProjet\",\"NuméroProjet\",\"Acronyme\",\"MontantAccordé\",\"Année\",\"Type\"]"
      ],
      "metadata": {
        "id": "YmpQqSrNTFG0"
      },
      "execution_count": 60,
      "outputs": []
    },
    {
      "cell_type": "code",
      "source": [
        "#concatenation\n",
        "phrc2019 = pd.concat([phrcI_2019,phrcK_2019,phrcN_2019])"
      ],
      "metadata": {
        "id": "hd0RqI3JTRl7"
      },
      "execution_count": 61,
      "outputs": []
    },
    {
      "cell_type": "code",
      "source": [
        "#renommer les colonnes\n",
        "phrc1_2020.columns = [\"Finess\",\"Nom de l'établissement\",\"NomInvestigateur\",\"PrénomInvestigateur\",\"TitreProjet\",\"NuméroProjet\",\"Acronyme\",\"MontantAccordé\",\"Année\",\"Type\"]\n",
        "phrc2_2020.columns = [\"Finess\",\"Nom de l'établissement\",\"NomInvestigateur\",\"PrénomInvestigateur\",\"TitreProjet\",\"NuméroProjet\",\"Acronyme\",\"MontantAccordé\",\"Année\",\"Type\"]\n"
      ],
      "metadata": {
        "id": "vcFfQrjGTfYS"
      },
      "execution_count": 62,
      "outputs": []
    },
    {
      "cell_type": "code",
      "source": [
        "#concatenation\n",
        "phrc2020 = pd.concat([phrc1_2020,phrc2_2020])"
      ],
      "metadata": {
        "id": "m7aeZUq2Tvp2"
      },
      "execution_count": 63,
      "outputs": []
    },
    {
      "cell_type": "code",
      "source": [
        "phrc_2021.columns"
      ],
      "metadata": {
        "colab": {
          "base_uri": "https://localhost:8080/"
        },
        "id": "rE9p9KXDWEHl",
        "outputId": "c319797b-bbf4-4b04-9e64-291b66177952"
      },
      "execution_count": 64,
      "outputs": [
        {
          "output_type": "execute_result",
          "data": {
            "text/plain": [
              "Index(['Porteur de projet /  Investigateur coordonnateur\\nNOM',\n",
              "       'Porteur de projet / Investigateur coordonnateur\\nPRENOM',\n",
              "       'Numéro projet PHRC-N',\n",
              "       'Nom de l'établissement de santé gestionnaire des fonds', 'Acronyme',\n",
              "       'Titre du projet ', 'Autorisation d'engagement (AE)', 'Année', 'Type'],\n",
              "      dtype='object')"
            ]
          },
          "metadata": {},
          "execution_count": 64
        }
      ]
    },
    {
      "cell_type": "code",
      "source": [
        "phrc_2021.columns = [\"Nom de l'établissement\",\"NomInvestigateur\",\"PrénomInvestigateur\",\"TitreProjet\",\"NuméroProjet\",\"Acronyme\",\"MontantAccordé\",\"Année\",\"Type\"]"
      ],
      "metadata": {
        "id": "-e_TvzTAV7nZ"
      },
      "execution_count": 65,
      "outputs": []
    },
    {
      "cell_type": "code",
      "source": [
        "#base de donneés finale\n",
        "PHRC = pd.concat([phrc2012,phrc2013,phrc2014,phrc2015,phrc2016,phrc2017,phrc2018,phrc2019,phrc2020,phrc_2021])\n"
      ],
      "metadata": {
        "id": "Ea9sot9BTYKU"
      },
      "execution_count": 66,
      "outputs": []
    },
    {
      "cell_type": "code",
      "source": [
        "PHRC=PHRC.replace('[^\\d.]','',regex=True)"
      ],
      "metadata": {
        "id": "B3_h0oJRD0ax"
      },
      "execution_count": 82,
      "outputs": []
    },
    {
      "cell_type": "code",
      "source": [
        "PHRC[\"Projet\"] = \"PHRC\"\n",
        "PHRC"
      ],
      "metadata": {
        "colab": {
          "base_uri": "https://localhost:8080/",
          "height": 505
        },
        "id": "e_4YNsVQWOIj",
        "outputId": "13c75af2-ac3f-4fb9-a4fa-c87d9feb3817"
      },
      "execution_count": 83,
      "outputs": [
        {
          "output_type": "execute_result",
          "data": {
            "text/plain": [
              "       Finess Nom de l'établissement NomInvestigateur PrénomInvestigateur  \\\n",
              "0   490000031                                                               \n",
              "1   130786049                                                               \n",
              "2   750712184                                                               \n",
              "3   750712184                                                               \n",
              "4   290000017                                                               \n",
              "..        ...                    ...              ...                 ...   \n",
              "95        NaN                                                      210073   \n",
              "96        NaN                                                      210060   \n",
              "97        NaN                                                      210336   \n",
              "98        NaN                                                      210291   \n",
              "99        NaN                      .              NaN                 NaN   \n",
              "\n",
              "   TitreProjet NuméroProjet Acronyme MontantAccordé Année Type Projet  \n",
              "0                       201      NaN       156091.0  2012        PHRC  \n",
              "1                       242      NaN       110000.0  2012        PHRC  \n",
              "2           2.          101      NaN       200000.0  2012        PHRC  \n",
              "3                        78                112000.0  2012        PHRC  \n",
              "4                       205      NaN        60836.0  2012        PHRC  \n",
              "..         ...          ...      ...            ...   ...  ...    ...  \n",
              "95                                           632826  2021    .   PHRC  \n",
              "96                      000                  831081  2021    .   PHRC  \n",
              "97                                           440000  2021    .   PHRC  \n",
              "98                            000000         808854  2021    .   PHRC  \n",
              "99         NaN          NaN      NaN            NaN  2021    .   PHRC  \n",
              "\n",
              "[2164 rows x 11 columns]"
            ],
            "text/html": [
              "\n",
              "  <div id=\"df-e58a817c-2ab4-433f-9043-d9021f13519e\">\n",
              "    <div class=\"colab-df-container\">\n",
              "      <div>\n",
              "<style scoped>\n",
              "    .dataframe tbody tr th:only-of-type {\n",
              "        vertical-align: middle;\n",
              "    }\n",
              "\n",
              "    .dataframe tbody tr th {\n",
              "        vertical-align: top;\n",
              "    }\n",
              "\n",
              "    .dataframe thead th {\n",
              "        text-align: right;\n",
              "    }\n",
              "</style>\n",
              "<table border=\"1\" class=\"dataframe\">\n",
              "  <thead>\n",
              "    <tr style=\"text-align: right;\">\n",
              "      <th></th>\n",
              "      <th>Finess</th>\n",
              "      <th>Nom de l'établissement</th>\n",
              "      <th>NomInvestigateur</th>\n",
              "      <th>PrénomInvestigateur</th>\n",
              "      <th>TitreProjet</th>\n",
              "      <th>NuméroProjet</th>\n",
              "      <th>Acronyme</th>\n",
              "      <th>MontantAccordé</th>\n",
              "      <th>Année</th>\n",
              "      <th>Type</th>\n",
              "      <th>Projet</th>\n",
              "    </tr>\n",
              "  </thead>\n",
              "  <tbody>\n",
              "    <tr>\n",
              "      <th>0</th>\n",
              "      <td>490000031</td>\n",
              "      <td></td>\n",
              "      <td></td>\n",
              "      <td></td>\n",
              "      <td></td>\n",
              "      <td>201</td>\n",
              "      <td>NaN</td>\n",
              "      <td>156091.0</td>\n",
              "      <td>2012</td>\n",
              "      <td></td>\n",
              "      <td>PHRC</td>\n",
              "    </tr>\n",
              "    <tr>\n",
              "      <th>1</th>\n",
              "      <td>130786049</td>\n",
              "      <td></td>\n",
              "      <td></td>\n",
              "      <td></td>\n",
              "      <td></td>\n",
              "      <td>242</td>\n",
              "      <td>NaN</td>\n",
              "      <td>110000.0</td>\n",
              "      <td>2012</td>\n",
              "      <td></td>\n",
              "      <td>PHRC</td>\n",
              "    </tr>\n",
              "    <tr>\n",
              "      <th>2</th>\n",
              "      <td>750712184</td>\n",
              "      <td></td>\n",
              "      <td></td>\n",
              "      <td></td>\n",
              "      <td>2.</td>\n",
              "      <td>101</td>\n",
              "      <td>NaN</td>\n",
              "      <td>200000.0</td>\n",
              "      <td>2012</td>\n",
              "      <td></td>\n",
              "      <td>PHRC</td>\n",
              "    </tr>\n",
              "    <tr>\n",
              "      <th>3</th>\n",
              "      <td>750712184</td>\n",
              "      <td></td>\n",
              "      <td></td>\n",
              "      <td></td>\n",
              "      <td></td>\n",
              "      <td>78</td>\n",
              "      <td></td>\n",
              "      <td>112000.0</td>\n",
              "      <td>2012</td>\n",
              "      <td></td>\n",
              "      <td>PHRC</td>\n",
              "    </tr>\n",
              "    <tr>\n",
              "      <th>4</th>\n",
              "      <td>290000017</td>\n",
              "      <td></td>\n",
              "      <td></td>\n",
              "      <td></td>\n",
              "      <td></td>\n",
              "      <td>205</td>\n",
              "      <td>NaN</td>\n",
              "      <td>60836.0</td>\n",
              "      <td>2012</td>\n",
              "      <td></td>\n",
              "      <td>PHRC</td>\n",
              "    </tr>\n",
              "    <tr>\n",
              "      <th>...</th>\n",
              "      <td>...</td>\n",
              "      <td>...</td>\n",
              "      <td>...</td>\n",
              "      <td>...</td>\n",
              "      <td>...</td>\n",
              "      <td>...</td>\n",
              "      <td>...</td>\n",
              "      <td>...</td>\n",
              "      <td>...</td>\n",
              "      <td>...</td>\n",
              "      <td>...</td>\n",
              "    </tr>\n",
              "    <tr>\n",
              "      <th>95</th>\n",
              "      <td>NaN</td>\n",
              "      <td></td>\n",
              "      <td></td>\n",
              "      <td>210073</td>\n",
              "      <td></td>\n",
              "      <td></td>\n",
              "      <td></td>\n",
              "      <td>632826</td>\n",
              "      <td>2021</td>\n",
              "      <td>.</td>\n",
              "      <td>PHRC</td>\n",
              "    </tr>\n",
              "    <tr>\n",
              "      <th>96</th>\n",
              "      <td>NaN</td>\n",
              "      <td></td>\n",
              "      <td></td>\n",
              "      <td>210060</td>\n",
              "      <td></td>\n",
              "      <td>000</td>\n",
              "      <td></td>\n",
              "      <td>831081</td>\n",
              "      <td>2021</td>\n",
              "      <td>.</td>\n",
              "      <td>PHRC</td>\n",
              "    </tr>\n",
              "    <tr>\n",
              "      <th>97</th>\n",
              "      <td>NaN</td>\n",
              "      <td></td>\n",
              "      <td></td>\n",
              "      <td>210336</td>\n",
              "      <td></td>\n",
              "      <td></td>\n",
              "      <td></td>\n",
              "      <td>440000</td>\n",
              "      <td>2021</td>\n",
              "      <td>.</td>\n",
              "      <td>PHRC</td>\n",
              "    </tr>\n",
              "    <tr>\n",
              "      <th>98</th>\n",
              "      <td>NaN</td>\n",
              "      <td></td>\n",
              "      <td></td>\n",
              "      <td>210291</td>\n",
              "      <td></td>\n",
              "      <td></td>\n",
              "      <td>000000</td>\n",
              "      <td>808854</td>\n",
              "      <td>2021</td>\n",
              "      <td>.</td>\n",
              "      <td>PHRC</td>\n",
              "    </tr>\n",
              "    <tr>\n",
              "      <th>99</th>\n",
              "      <td>NaN</td>\n",
              "      <td>.</td>\n",
              "      <td>NaN</td>\n",
              "      <td>NaN</td>\n",
              "      <td>NaN</td>\n",
              "      <td>NaN</td>\n",
              "      <td>NaN</td>\n",
              "      <td>NaN</td>\n",
              "      <td>2021</td>\n",
              "      <td>.</td>\n",
              "      <td>PHRC</td>\n",
              "    </tr>\n",
              "  </tbody>\n",
              "</table>\n",
              "<p>2164 rows × 11 columns</p>\n",
              "</div>\n",
              "      <button class=\"colab-df-convert\" onclick=\"convertToInteractive('df-e58a817c-2ab4-433f-9043-d9021f13519e')\"\n",
              "              title=\"Convert this dataframe to an interactive table.\"\n",
              "              style=\"display:none;\">\n",
              "        \n",
              "  <svg xmlns=\"http://www.w3.org/2000/svg\" height=\"24px\"viewBox=\"0 0 24 24\"\n",
              "       width=\"24px\">\n",
              "    <path d=\"M0 0h24v24H0V0z\" fill=\"none\"/>\n",
              "    <path d=\"M18.56 5.44l.94 2.06.94-2.06 2.06-.94-2.06-.94-.94-2.06-.94 2.06-2.06.94zm-11 1L8.5 8.5l.94-2.06 2.06-.94-2.06-.94L8.5 2.5l-.94 2.06-2.06.94zm10 10l.94 2.06.94-2.06 2.06-.94-2.06-.94-.94-2.06-.94 2.06-2.06.94z\"/><path d=\"M17.41 7.96l-1.37-1.37c-.4-.4-.92-.59-1.43-.59-.52 0-1.04.2-1.43.59L10.3 9.45l-7.72 7.72c-.78.78-.78 2.05 0 2.83L4 21.41c.39.39.9.59 1.41.59.51 0 1.02-.2 1.41-.59l7.78-7.78 2.81-2.81c.8-.78.8-2.07 0-2.86zM5.41 20L4 18.59l7.72-7.72 1.47 1.35L5.41 20z\"/>\n",
              "  </svg>\n",
              "      </button>\n",
              "      \n",
              "  <style>\n",
              "    .colab-df-container {\n",
              "      display:flex;\n",
              "      flex-wrap:wrap;\n",
              "      gap: 12px;\n",
              "    }\n",
              "\n",
              "    .colab-df-convert {\n",
              "      background-color: #E8F0FE;\n",
              "      border: none;\n",
              "      border-radius: 50%;\n",
              "      cursor: pointer;\n",
              "      display: none;\n",
              "      fill: #1967D2;\n",
              "      height: 32px;\n",
              "      padding: 0 0 0 0;\n",
              "      width: 32px;\n",
              "    }\n",
              "\n",
              "    .colab-df-convert:hover {\n",
              "      background-color: #E2EBFA;\n",
              "      box-shadow: 0px 1px 2px rgba(60, 64, 67, 0.3), 0px 1px 3px 1px rgba(60, 64, 67, 0.15);\n",
              "      fill: #174EA6;\n",
              "    }\n",
              "\n",
              "    [theme=dark] .colab-df-convert {\n",
              "      background-color: #3B4455;\n",
              "      fill: #D2E3FC;\n",
              "    }\n",
              "\n",
              "    [theme=dark] .colab-df-convert:hover {\n",
              "      background-color: #434B5C;\n",
              "      box-shadow: 0px 1px 3px 1px rgba(0, 0, 0, 0.15);\n",
              "      filter: drop-shadow(0px 1px 2px rgba(0, 0, 0, 0.3));\n",
              "      fill: #FFFFFF;\n",
              "    }\n",
              "  </style>\n",
              "\n",
              "      <script>\n",
              "        const buttonEl =\n",
              "          document.querySelector('#df-e58a817c-2ab4-433f-9043-d9021f13519e button.colab-df-convert');\n",
              "        buttonEl.style.display =\n",
              "          google.colab.kernel.accessAllowed ? 'block' : 'none';\n",
              "\n",
              "        async function convertToInteractive(key) {\n",
              "          const element = document.querySelector('#df-e58a817c-2ab4-433f-9043-d9021f13519e');\n",
              "          const dataTable =\n",
              "            await google.colab.kernel.invokeFunction('convertToInteractive',\n",
              "                                                     [key], {});\n",
              "          if (!dataTable) return;\n",
              "\n",
              "          const docLinkHtml = 'Like what you see? Visit the ' +\n",
              "            '<a target=\"_blank\" href=https://colab.research.google.com/notebooks/data_table.ipynb>data table notebook</a>'\n",
              "            + ' to learn more about interactive tables.';\n",
              "          element.innerHTML = '';\n",
              "          dataTable['output_type'] = 'display_data';\n",
              "          await google.colab.output.renderOutput(dataTable, element);\n",
              "          const docLink = document.createElement('div');\n",
              "          docLink.innerHTML = docLinkHtml;\n",
              "          element.appendChild(docLink);\n",
              "        }\n",
              "      </script>\n",
              "    </div>\n",
              "  </div>\n",
              "  "
            ]
          },
          "metadata": {},
          "execution_count": 83
        }
      ]
    },
    {
      "cell_type": "code",
      "source": [
        "PHRC.to_csv('PHRC.csv')"
      ],
      "metadata": {
        "id": "NnZQmPfNZU1g"
      },
      "execution_count": null,
      "outputs": []
    },
    {
      "cell_type": "code",
      "source": [
        "PHRC1=PHRC.loc[:,['Année', 'MontantAccordé','Type']]\n",
        "\n"
      ],
      "metadata": {
        "id": "GgATbU0LbcGh"
      },
      "execution_count": 84,
      "outputs": []
    },
    {
      "cell_type": "code",
      "source": [
        "PHRC1.dtypes"
      ],
      "metadata": {
        "colab": {
          "base_uri": "https://localhost:8080/"
        },
        "id": "oKOEa6RAGZ8N",
        "outputId": "f543f945-72ad-4074-9b49-c32f81a54733"
      },
      "execution_count": 85,
      "outputs": [
        {
          "output_type": "execute_result",
          "data": {
            "text/plain": [
              "Année             object\n",
              "MontantAccordé    object\n",
              "Type              object\n",
              "dtype: object"
            ]
          },
          "metadata": {},
          "execution_count": 85
        }
      ]
    },
    {
      "cell_type": "code",
      "source": [
        "PHRC1['Année'] = pd.to_numeric(PHRC1['Année'])"
      ],
      "metadata": {
        "id": "U5vKVsyDHLHn"
      },
      "execution_count": 86,
      "outputs": []
    },
    {
      "cell_type": "code",
      "source": [
        "PHRC1['MontantAccordé'] = pd.to_numeric(PHRC1['MontantAccordé'])"
      ],
      "metadata": {
        "id": "2AoWVNJcbnxS"
      },
      "execution_count": 87,
      "outputs": []
    },
    {
      "cell_type": "code",
      "source": [
        "PHRC2=PHRC1.groupby(['Année']).sum()\n",
        "PHRC2"
      ],
      "metadata": {
        "id": "b_3qiBlpcQGp",
        "colab": {
          "base_uri": "https://localhost:8080/",
          "height": 278
        },
        "outputId": "70164e98-9e12-44ae-de78-1f9d14fa809d"
      },
      "execution_count": 92,
      "outputs": [
        {
          "output_type": "execute_result",
          "data": {
            "text/plain": [
              "       MontantAccordé\n",
              "Année                \n",
              "2012     1.955523e+08\n",
              "2013     7.531925e+07\n",
              "2014     9.111366e+07\n",
              "2015     1.041524e+08\n",
              "2016     2.093267e+08\n",
              "2018     1.083020e+08\n",
              "2020     1.026768e+08\n",
              "2021     7.000712e+07"
            ],
            "text/html": [
              "\n",
              "  <div id=\"df-590e0a9f-0612-4159-bbc4-4c38285d9cf9\">\n",
              "    <div class=\"colab-df-container\">\n",
              "      <div>\n",
              "<style scoped>\n",
              "    .dataframe tbody tr th:only-of-type {\n",
              "        vertical-align: middle;\n",
              "    }\n",
              "\n",
              "    .dataframe tbody tr th {\n",
              "        vertical-align: top;\n",
              "    }\n",
              "\n",
              "    .dataframe thead th {\n",
              "        text-align: right;\n",
              "    }\n",
              "</style>\n",
              "<table border=\"1\" class=\"dataframe\">\n",
              "  <thead>\n",
              "    <tr style=\"text-align: right;\">\n",
              "      <th></th>\n",
              "      <th>MontantAccordé</th>\n",
              "    </tr>\n",
              "    <tr>\n",
              "      <th>Année</th>\n",
              "      <th></th>\n",
              "    </tr>\n",
              "  </thead>\n",
              "  <tbody>\n",
              "    <tr>\n",
              "      <th>2012</th>\n",
              "      <td>1.955523e+08</td>\n",
              "    </tr>\n",
              "    <tr>\n",
              "      <th>2013</th>\n",
              "      <td>7.531925e+07</td>\n",
              "    </tr>\n",
              "    <tr>\n",
              "      <th>2014</th>\n",
              "      <td>9.111366e+07</td>\n",
              "    </tr>\n",
              "    <tr>\n",
              "      <th>2015</th>\n",
              "      <td>1.041524e+08</td>\n",
              "    </tr>\n",
              "    <tr>\n",
              "      <th>2016</th>\n",
              "      <td>2.093267e+08</td>\n",
              "    </tr>\n",
              "    <tr>\n",
              "      <th>2018</th>\n",
              "      <td>1.083020e+08</td>\n",
              "    </tr>\n",
              "    <tr>\n",
              "      <th>2020</th>\n",
              "      <td>1.026768e+08</td>\n",
              "    </tr>\n",
              "    <tr>\n",
              "      <th>2021</th>\n",
              "      <td>7.000712e+07</td>\n",
              "    </tr>\n",
              "  </tbody>\n",
              "</table>\n",
              "</div>\n",
              "      <button class=\"colab-df-convert\" onclick=\"convertToInteractive('df-590e0a9f-0612-4159-bbc4-4c38285d9cf9')\"\n",
              "              title=\"Convert this dataframe to an interactive table.\"\n",
              "              style=\"display:none;\">\n",
              "        \n",
              "  <svg xmlns=\"http://www.w3.org/2000/svg\" height=\"24px\"viewBox=\"0 0 24 24\"\n",
              "       width=\"24px\">\n",
              "    <path d=\"M0 0h24v24H0V0z\" fill=\"none\"/>\n",
              "    <path d=\"M18.56 5.44l.94 2.06.94-2.06 2.06-.94-2.06-.94-.94-2.06-.94 2.06-2.06.94zm-11 1L8.5 8.5l.94-2.06 2.06-.94-2.06-.94L8.5 2.5l-.94 2.06-2.06.94zm10 10l.94 2.06.94-2.06 2.06-.94-2.06-.94-.94-2.06-.94 2.06-2.06.94z\"/><path d=\"M17.41 7.96l-1.37-1.37c-.4-.4-.92-.59-1.43-.59-.52 0-1.04.2-1.43.59L10.3 9.45l-7.72 7.72c-.78.78-.78 2.05 0 2.83L4 21.41c.39.39.9.59 1.41.59.51 0 1.02-.2 1.41-.59l7.78-7.78 2.81-2.81c.8-.78.8-2.07 0-2.86zM5.41 20L4 18.59l7.72-7.72 1.47 1.35L5.41 20z\"/>\n",
              "  </svg>\n",
              "      </button>\n",
              "      \n",
              "  <style>\n",
              "    .colab-df-container {\n",
              "      display:flex;\n",
              "      flex-wrap:wrap;\n",
              "      gap: 12px;\n",
              "    }\n",
              "\n",
              "    .colab-df-convert {\n",
              "      background-color: #E8F0FE;\n",
              "      border: none;\n",
              "      border-radius: 50%;\n",
              "      cursor: pointer;\n",
              "      display: none;\n",
              "      fill: #1967D2;\n",
              "      height: 32px;\n",
              "      padding: 0 0 0 0;\n",
              "      width: 32px;\n",
              "    }\n",
              "\n",
              "    .colab-df-convert:hover {\n",
              "      background-color: #E2EBFA;\n",
              "      box-shadow: 0px 1px 2px rgba(60, 64, 67, 0.3), 0px 1px 3px 1px rgba(60, 64, 67, 0.15);\n",
              "      fill: #174EA6;\n",
              "    }\n",
              "\n",
              "    [theme=dark] .colab-df-convert {\n",
              "      background-color: #3B4455;\n",
              "      fill: #D2E3FC;\n",
              "    }\n",
              "\n",
              "    [theme=dark] .colab-df-convert:hover {\n",
              "      background-color: #434B5C;\n",
              "      box-shadow: 0px 1px 3px 1px rgba(0, 0, 0, 0.15);\n",
              "      filter: drop-shadow(0px 1px 2px rgba(0, 0, 0, 0.3));\n",
              "      fill: #FFFFFF;\n",
              "    }\n",
              "  </style>\n",
              "\n",
              "      <script>\n",
              "        const buttonEl =\n",
              "          document.querySelector('#df-590e0a9f-0612-4159-bbc4-4c38285d9cf9 button.colab-df-convert');\n",
              "        buttonEl.style.display =\n",
              "          google.colab.kernel.accessAllowed ? 'block' : 'none';\n",
              "\n",
              "        async function convertToInteractive(key) {\n",
              "          const element = document.querySelector('#df-590e0a9f-0612-4159-bbc4-4c38285d9cf9');\n",
              "          const dataTable =\n",
              "            await google.colab.kernel.invokeFunction('convertToInteractive',\n",
              "                                                     [key], {});\n",
              "          if (!dataTable) return;\n",
              "\n",
              "          const docLinkHtml = 'Like what you see? Visit the ' +\n",
              "            '<a target=\"_blank\" href=https://colab.research.google.com/notebooks/data_table.ipynb>data table notebook</a>'\n",
              "            + ' to learn more about interactive tables.';\n",
              "          element.innerHTML = '';\n",
              "          dataTable['output_type'] = 'display_data';\n",
              "          await google.colab.output.renderOutput(dataTable, element);\n",
              "          const docLink = document.createElement('div');\n",
              "          docLink.innerHTML = docLinkHtml;\n",
              "          element.appendChild(docLink);\n",
              "        }\n",
              "      </script>\n",
              "    </div>\n",
              "  </div>\n",
              "  "
            ]
          },
          "metadata": {},
          "execution_count": 92
        }
      ]
    },
    {
      "cell_type": "code",
      "source": [],
      "metadata": {
        "id": "I-xpAoV-KluV"
      },
      "execution_count": null,
      "outputs": []
    }
  ]
}