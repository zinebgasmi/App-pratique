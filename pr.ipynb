{
  "nbformat": 4,
  "nbformat_minor": 0,
  "metadata": {
    "colab": {
      "provenance": [],
      "authorship_tag": "ABX9TyOgrGlDdIOJ+MCn6BEKU8Su",
      "include_colab_link": true
    },
    "kernelspec": {
      "name": "python3",
      "display_name": "Python 3"
    },
    "language_info": {
      "name": "python"
    }
  },
  "cells": [
    {
      "cell_type": "markdown",
      "metadata": {
        "id": "view-in-github",
        "colab_type": "text"
      },
      "source": [
        "<a href=\"https://colab.research.google.com/github/zinebgasmi/App-pratique/blob/master/pr.ipynb\" target=\"_parent\"><img src=\"https://colab.research.google.com/assets/colab-badge.svg\" alt=\"Open In Colab\"/></a>"
      ]
    },
    {
      "cell_type": "code",
      "source": [
        "! pip install xlrd==1.2.0"
      ],
      "metadata": {
        "colab": {
          "base_uri": "https://localhost:8080/"
        },
        "id": "3qW2snnFXXzW",
        "outputId": "ad7b8cb7-4a8b-4764-e3c3-61baaa48b101"
      },
      "execution_count": 2,
      "outputs": [
        {
          "output_type": "stream",
          "name": "stdout",
          "text": [
            "Looking in indexes: https://pypi.org/simple, https://us-python.pkg.dev/colab-wheels/public/simple/\n",
            "Collecting xlrd==1.2.0\n",
            "  Downloading xlrd-1.2.0-py2.py3-none-any.whl (103 kB)\n",
            "\u001b[K     |████████████████████████████████| 103 kB 5.3 MB/s \n",
            "\u001b[?25hInstalling collected packages: xlrd\n",
            "  Attempting uninstall: xlrd\n",
            "    Found existing installation: xlrd 1.1.0\n",
            "    Uninstalling xlrd-1.1.0:\n",
            "      Successfully uninstalled xlrd-1.1.0\n",
            "Successfully installed xlrd-1.2.0\n"
          ]
        }
      ]
    },
    {
      "cell_type": "code",
      "source": [
        "# Importer les packages\n",
        "import pandas as pd\n",
        "import re"
      ],
      "metadata": {
        "id": "eSQyjX8YXbR0"
      },
      "execution_count": 3,
      "outputs": []
    },
    {
      "cell_type": "code",
      "execution_count": 5,
      "metadata": {
        "id": "DlJTXn4qWtGY"
      },
      "outputs": [],
      "source": [
        "df=pd.read_csv('Projets.csv')"
      ]
    },
    {
      "cell_type": "code",
      "source": [
        "df.columns"
      ],
      "metadata": {
        "colab": {
          "base_uri": "https://localhost:8080/"
        },
        "id": "4xINb6x9XpIl",
        "outputId": "4c0bf071-6610-4e6e-95b2-2726ff5fc994"
      },
      "execution_count": 6,
      "outputs": [
        {
          "output_type": "execute_result",
          "data": {
            "text/plain": [
              "Index(['Unnamed: 0', 'Finess', 'Nom de l'établissement', 'NomInvestigateur',\n",
              "       'PrénomInvestigateur', 'TitreProjet', 'NuméroProjet', 'Acronyme',\n",
              "       'MontantAccordé', 'Année', 'Type', 'Projet'],\n",
              "      dtype='object')"
            ]
          },
          "metadata": {},
          "execution_count": 6
        }
      ]
    },
    {
      "cell_type": "code",
      "source": [
        "df.head()"
      ],
      "metadata": {
        "colab": {
          "base_uri": "https://localhost:8080/",
          "height": 513
        },
        "id": "5qBZ0tz4Y-5J",
        "outputId": "82b34eb1-a505-489c-da08-129f1653d7fc"
      },
      "execution_count": 7,
      "outputs": [
        {
          "output_type": "execute_result",
          "data": {
            "text/plain": [
              "   Unnamed: 0     Finess     Nom de l'établissement NomInvestigateur  \\\n",
              "0           0  300780038                  CHU NIMES            ABBAR   \n",
              "1           1  750712184  ASSISTANCE PUBLIQUE AP-HP            ADNET   \n",
              "2           2  750712184  ASSISTANCE PUBLIQUE AP-HP         BACHELOT   \n",
              "3           3  340780477            CHU MONTPELLIER        BAGHDADLI   \n",
              "4           4  750712184  ASSISTANCE PUBLIQUE AP-HP       BEAUDREUIL   \n",
              "\n",
              "  PrénomInvestigateur                                        TitreProjet  \\\n",
              "0             Mocrane  Evaluation des effets de la kétamine dans le t...   \n",
              "1            Frédéric  Prise en charge initiale des voies aériennes a...   \n",
              "2                Anne  Evaluation de la pharmacocinétique des traitem...   \n",
              "3              Amaria  Etude des déterminants de l'évolution dans une...   \n",
              "4              Johann  Efficacité du Discogel Intradiscal dans la Sci...   \n",
              "\n",
              "  NuméroProjet  Acronyme MontantAccordé  Année Type Projet  \n",
              "0          304     KETIS       357459.0   2013    N   PHRC  \n",
              "1          196      CAAM       562733.7   2013    N   PHRC  \n",
              "2          643     OBECO       177631.0   2013    N   PHRC  \n",
              "3          232  ELENA-E1      688209.36   2013    N   PHRC  \n",
              "4          403      EDIS       545489.0   2013    N   PHRC  "
            ],
            "text/html": [
              "\n",
              "  <div id=\"df-47708ed8-36da-4646-a836-854dc8b03a42\">\n",
              "    <div class=\"colab-df-container\">\n",
              "      <div>\n",
              "<style scoped>\n",
              "    .dataframe tbody tr th:only-of-type {\n",
              "        vertical-align: middle;\n",
              "    }\n",
              "\n",
              "    .dataframe tbody tr th {\n",
              "        vertical-align: top;\n",
              "    }\n",
              "\n",
              "    .dataframe thead th {\n",
              "        text-align: right;\n",
              "    }\n",
              "</style>\n",
              "<table border=\"1\" class=\"dataframe\">\n",
              "  <thead>\n",
              "    <tr style=\"text-align: right;\">\n",
              "      <th></th>\n",
              "      <th>Unnamed: 0</th>\n",
              "      <th>Finess</th>\n",
              "      <th>Nom de l'établissement</th>\n",
              "      <th>NomInvestigateur</th>\n",
              "      <th>PrénomInvestigateur</th>\n",
              "      <th>TitreProjet</th>\n",
              "      <th>NuméroProjet</th>\n",
              "      <th>Acronyme</th>\n",
              "      <th>MontantAccordé</th>\n",
              "      <th>Année</th>\n",
              "      <th>Type</th>\n",
              "      <th>Projet</th>\n",
              "    </tr>\n",
              "  </thead>\n",
              "  <tbody>\n",
              "    <tr>\n",
              "      <th>0</th>\n",
              "      <td>0</td>\n",
              "      <td>300780038</td>\n",
              "      <td>CHU NIMES</td>\n",
              "      <td>ABBAR</td>\n",
              "      <td>Mocrane</td>\n",
              "      <td>Evaluation des effets de la kétamine dans le t...</td>\n",
              "      <td>304</td>\n",
              "      <td>KETIS</td>\n",
              "      <td>357459.0</td>\n",
              "      <td>2013</td>\n",
              "      <td>N</td>\n",
              "      <td>PHRC</td>\n",
              "    </tr>\n",
              "    <tr>\n",
              "      <th>1</th>\n",
              "      <td>1</td>\n",
              "      <td>750712184</td>\n",
              "      <td>ASSISTANCE PUBLIQUE AP-HP</td>\n",
              "      <td>ADNET</td>\n",
              "      <td>Frédéric</td>\n",
              "      <td>Prise en charge initiale des voies aériennes a...</td>\n",
              "      <td>196</td>\n",
              "      <td>CAAM</td>\n",
              "      <td>562733.7</td>\n",
              "      <td>2013</td>\n",
              "      <td>N</td>\n",
              "      <td>PHRC</td>\n",
              "    </tr>\n",
              "    <tr>\n",
              "      <th>2</th>\n",
              "      <td>2</td>\n",
              "      <td>750712184</td>\n",
              "      <td>ASSISTANCE PUBLIQUE AP-HP</td>\n",
              "      <td>BACHELOT</td>\n",
              "      <td>Anne</td>\n",
              "      <td>Evaluation de la pharmacocinétique des traitem...</td>\n",
              "      <td>643</td>\n",
              "      <td>OBECO</td>\n",
              "      <td>177631.0</td>\n",
              "      <td>2013</td>\n",
              "      <td>N</td>\n",
              "      <td>PHRC</td>\n",
              "    </tr>\n",
              "    <tr>\n",
              "      <th>3</th>\n",
              "      <td>3</td>\n",
              "      <td>340780477</td>\n",
              "      <td>CHU MONTPELLIER</td>\n",
              "      <td>BAGHDADLI</td>\n",
              "      <td>Amaria</td>\n",
              "      <td>Etude des déterminants de l'évolution dans une...</td>\n",
              "      <td>232</td>\n",
              "      <td>ELENA-E1</td>\n",
              "      <td>688209.36</td>\n",
              "      <td>2013</td>\n",
              "      <td>N</td>\n",
              "      <td>PHRC</td>\n",
              "    </tr>\n",
              "    <tr>\n",
              "      <th>4</th>\n",
              "      <td>4</td>\n",
              "      <td>750712184</td>\n",
              "      <td>ASSISTANCE PUBLIQUE AP-HP</td>\n",
              "      <td>BEAUDREUIL</td>\n",
              "      <td>Johann</td>\n",
              "      <td>Efficacité du Discogel Intradiscal dans la Sci...</td>\n",
              "      <td>403</td>\n",
              "      <td>EDIS</td>\n",
              "      <td>545489.0</td>\n",
              "      <td>2013</td>\n",
              "      <td>N</td>\n",
              "      <td>PHRC</td>\n",
              "    </tr>\n",
              "  </tbody>\n",
              "</table>\n",
              "</div>\n",
              "      <button class=\"colab-df-convert\" onclick=\"convertToInteractive('df-47708ed8-36da-4646-a836-854dc8b03a42')\"\n",
              "              title=\"Convert this dataframe to an interactive table.\"\n",
              "              style=\"display:none;\">\n",
              "        \n",
              "  <svg xmlns=\"http://www.w3.org/2000/svg\" height=\"24px\"viewBox=\"0 0 24 24\"\n",
              "       width=\"24px\">\n",
              "    <path d=\"M0 0h24v24H0V0z\" fill=\"none\"/>\n",
              "    <path d=\"M18.56 5.44l.94 2.06.94-2.06 2.06-.94-2.06-.94-.94-2.06-.94 2.06-2.06.94zm-11 1L8.5 8.5l.94-2.06 2.06-.94-2.06-.94L8.5 2.5l-.94 2.06-2.06.94zm10 10l.94 2.06.94-2.06 2.06-.94-2.06-.94-.94-2.06-.94 2.06-2.06.94z\"/><path d=\"M17.41 7.96l-1.37-1.37c-.4-.4-.92-.59-1.43-.59-.52 0-1.04.2-1.43.59L10.3 9.45l-7.72 7.72c-.78.78-.78 2.05 0 2.83L4 21.41c.39.39.9.59 1.41.59.51 0 1.02-.2 1.41-.59l7.78-7.78 2.81-2.81c.8-.78.8-2.07 0-2.86zM5.41 20L4 18.59l7.72-7.72 1.47 1.35L5.41 20z\"/>\n",
              "  </svg>\n",
              "      </button>\n",
              "      \n",
              "  <style>\n",
              "    .colab-df-container {\n",
              "      display:flex;\n",
              "      flex-wrap:wrap;\n",
              "      gap: 12px;\n",
              "    }\n",
              "\n",
              "    .colab-df-convert {\n",
              "      background-color: #E8F0FE;\n",
              "      border: none;\n",
              "      border-radius: 50%;\n",
              "      cursor: pointer;\n",
              "      display: none;\n",
              "      fill: #1967D2;\n",
              "      height: 32px;\n",
              "      padding: 0 0 0 0;\n",
              "      width: 32px;\n",
              "    }\n",
              "\n",
              "    .colab-df-convert:hover {\n",
              "      background-color: #E2EBFA;\n",
              "      box-shadow: 0px 1px 2px rgba(60, 64, 67, 0.3), 0px 1px 3px 1px rgba(60, 64, 67, 0.15);\n",
              "      fill: #174EA6;\n",
              "    }\n",
              "\n",
              "    [theme=dark] .colab-df-convert {\n",
              "      background-color: #3B4455;\n",
              "      fill: #D2E3FC;\n",
              "    }\n",
              "\n",
              "    [theme=dark] .colab-df-convert:hover {\n",
              "      background-color: #434B5C;\n",
              "      box-shadow: 0px 1px 3px 1px rgba(0, 0, 0, 0.15);\n",
              "      filter: drop-shadow(0px 1px 2px rgba(0, 0, 0, 0.3));\n",
              "      fill: #FFFFFF;\n",
              "    }\n",
              "  </style>\n",
              "\n",
              "      <script>\n",
              "        const buttonEl =\n",
              "          document.querySelector('#df-47708ed8-36da-4646-a836-854dc8b03a42 button.colab-df-convert');\n",
              "        buttonEl.style.display =\n",
              "          google.colab.kernel.accessAllowed ? 'block' : 'none';\n",
              "\n",
              "        async function convertToInteractive(key) {\n",
              "          const element = document.querySelector('#df-47708ed8-36da-4646-a836-854dc8b03a42');\n",
              "          const dataTable =\n",
              "            await google.colab.kernel.invokeFunction('convertToInteractive',\n",
              "                                                     [key], {});\n",
              "          if (!dataTable) return;\n",
              "\n",
              "          const docLinkHtml = 'Like what you see? Visit the ' +\n",
              "            '<a target=\"_blank\" href=https://colab.research.google.com/notebooks/data_table.ipynb>data table notebook</a>'\n",
              "            + ' to learn more about interactive tables.';\n",
              "          element.innerHTML = '';\n",
              "          dataTable['output_type'] = 'display_data';\n",
              "          await google.colab.output.renderOutput(dataTable, element);\n",
              "          const docLink = document.createElement('div');\n",
              "          docLink.innerHTML = docLinkHtml;\n",
              "          element.appendChild(docLink);\n",
              "        }\n",
              "      </script>\n",
              "    </div>\n",
              "  </div>\n",
              "  "
            ]
          },
          "metadata": {},
          "execution_count": 7
        }
      ]
    },
    {
      "cell_type": "code",
      "source": [
        "df.Projet.unique"
      ],
      "metadata": {
        "colab": {
          "base_uri": "https://localhost:8080/"
        },
        "id": "bfp51lZRZSjR",
        "outputId": "8d2e2e85-0202-463b-a6fc-45e73bea5ad7"
      },
      "execution_count": 9,
      "outputs": [
        {
          "output_type": "execute_result",
          "data": {
            "text/plain": [
              "<bound method Series.unique of 0       PHRC\n",
              "1       PHRC\n",
              "2       PHRC\n",
              "3       PHRC\n",
              "4       PHRC\n",
              "        ... \n",
              "2525     PRT\n",
              "2526     PRT\n",
              "2527     PRT\n",
              "2528     PRT\n",
              "2529     PRT\n",
              "Name: Projet, Length: 2530, dtype: object>"
            ]
          },
          "metadata": {},
          "execution_count": 9
        }
      ]
    },
    {
      "cell_type": "code",
      "source": [
        "df.loc[df.loc[:,]]"
      ],
      "metadata": {
        "colab": {
          "base_uri": "https://localhost:8080/",
          "height": 133
        },
        "id": "C2jA_DSddX-B",
        "outputId": "619e6da4-a1cd-486e-c603-d5eae9fbc55b"
      },
      "execution_count": 12,
      "outputs": [
        {
          "output_type": "error",
          "ename": "SyntaxError",
          "evalue": "ignored",
          "traceback": [
            "\u001b[0;36m  File \u001b[0;32m\"<ipython-input-12-90a6acbf609a>\"\u001b[0;36m, line \u001b[0;32m1\u001b[0m\n\u001b[0;31m    df.loc['Projet'montantAccordé']\u001b[0m\n\u001b[0m                                ^\u001b[0m\n\u001b[0;31mSyntaxError\u001b[0m\u001b[0;31m:\u001b[0m invalid syntax\n"
          ]
        }
      ]
    }
  ]
}